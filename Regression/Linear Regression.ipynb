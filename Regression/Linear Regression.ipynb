{
 "cells": [
  {
   "cell_type": "code",
   "execution_count": 4,
   "id": "5efe83a8",
   "metadata": {},
   "outputs": [],
   "source": [
    "import numpy as np\n",
    "import matplotlib.pyplot as plt"
   ]
  },
  {
   "cell_type": "code",
   "execution_count": 5,
   "id": "46875644",
   "metadata": {},
   "outputs": [],
   "source": [
    "df = pd.read_csv('sample_data.csv')"
   ]
  },
  {
   "cell_type": "code",
   "execution_count": 6,
   "id": "a98713c7",
   "metadata": {},
   "outputs": [
    {
     "name": "stdout",
     "output_type": "stream",
     "text": [
      "        x      y\n",
      "0   85.84  87.99\n",
      "1   46.16  70.24\n",
      "2   92.80   2.46\n",
      "3   16.62  75.85\n",
      "4   96.23  10.67\n",
      "..    ...    ...\n",
      "95  92.64  95.64\n",
      "96  62.03  93.07\n",
      "97  93.53  93.18\n",
      "98  67.22   8.50\n",
      "99  51.96  53.92\n",
      "\n",
      "[100 rows x 2 columns]\n"
     ]
    }
   ],
   "source": [
    "print(df)"
   ]
  },
  {
   "cell_type": "code",
   "execution_count": 8,
   "id": "cfafd1c8",
   "metadata": {},
   "outputs": [
    {
     "data": {
      "image/png": "[encoded data removed]",
      "text/plain": [
       "<Figure size 432x288 with 1 Axes>"
      ]
     },
     "metadata": {
      "needs_background": "light"
     },
     "output_type": "display_data"
    }
   ],
   "source": [
    "plt.scatter(df.y, df.x)\n",
    "plt.show()"
   ]
  },
  {
   "cell_type": "code",
   "execution_count": null,
   "id": "db4fa6e1",
   "metadata": {},
   "outputs": [],
   "source": [
    "def loss_function(m, b, points):\n",
    "    total_error = 0\n",
    "    for i in range(len(points)):\n",
    "        x = points.iloc[i].x\n",
    "        y = points.iloc[i].y\n",
    "        \n",
    "        total_error += (y - (m*x + b)) ** 2\n",
    "        total_error = total_error(float(len(points)))"
   ]
  },
  {
   "cell_type": "code",
   "execution_count": 10,
   "id": "7cdf37dc",
   "metadata": {},
   "outputs": [],
   "source": [
    "def gradient_descent(m_now, b_now, points, L):\n",
    "    m_gradient = 0\n",
    "    b_gradient = 0\n",
    "    \n",
    "    n = len(points)\n",
    "    for i in range(n):\n",
    "        x = points.iloc[i].x\n",
    "        y = points.iloc[i].y\n",
    "        m_gradient += (-2/n) * x * (y - (m_now*x + b_now))\n",
    "        b_gradient += (-2/n) * (y - (m_now*x + b_now))\n",
    "    \n",
    "    m = m_now - L * m_gradient\n",
    "    b = b_now - L * b_gradient\n",
    "    \n",
    "    return m, b"
   ]
  },
  {
   "cell_type": "code",
   "execution_count": 13,
   "id": "64132cec",
   "metadata": {},
   "outputs": [
    {
     "name": "stdout",
     "output_type": "stream",
     "text": [
      "0.7105329742508744\n",
      "1.9398542804406513\n"
     ]
    },
    {
     "data": {
      "image/png": "[encoded data removed]",
      "text/plain": [
       "<Figure size 432x288 with 1 Axes>"
      ]
     },
     "metadata": {
      "needs_background": "light"
     },
     "output_type": "display_data"
    }
   ],
   "source": [
    "m = 0\n",
    "b = 0\n",
    "L = 0.0001\n",
    "epochs = 1000\n",
    "\n",
    "for i in range(epochs):\n",
    "    if 1%50 == 0:\n",
    "        print(f\"Epoch:{i}\")\n",
    "    m, b = gradient_descent(m,b , df, L)\n",
    "    \n",
    "print(m)\n",
    "print(b)\n",
    "\n",
    "plt.scatter(df.x, df.y, color=\"black\")\n",
    "plt.plot(list(range(1, 100)), [m *x + b for x in range(1, 100)], color=\"red\")\n",
    "plt.show()"
   ]
  },
  {
   "cell_type": "code",
   "execution_count": null,
   "id": "146763a3",
   "metadata": {},
   "outputs": [],
   "source": []
  }
 ],
 "metadata": {
  "kernelspec": {
   "display_name": "Python 3 (ipykernel)",
   "language": "python",
   "name": "python3"
  },
  "language_info": {
   "codemirror_mode": {
    "name": "ipython",
    "version": 3
   },
   "file_extension": ".py",
   "mimetype": "text/x-python",
   "name": "python",
   "nbconvert_exporter": "python",
   "pygments_lexer": "ipython3",
   "version": "3.8.8"
  }
 },
 "nbformat": 4,
 "nbformat_minor": 5
}
